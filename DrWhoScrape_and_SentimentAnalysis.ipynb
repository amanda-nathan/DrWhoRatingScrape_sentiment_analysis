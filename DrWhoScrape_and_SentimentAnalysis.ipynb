{
  "nbformat": 4,
  "nbformat_minor": 0,
  "metadata": {
    "colab": {
      "provenance": []
    },
    "kernelspec": {
      "name": "python3",
      "display_name": "Python 3"
    },
    "language_info": {
      "name": "python"
    },
    "accelerator": "TPU",
    "gpuClass": "standard"
  },
  "cells": [
    {
      "cell_type": "markdown",
      "source": [
        "Below is my attempt to scrap all ~965 (as of April 30) reviews from https://www.imdb.com/title/tt0436992/reviews (Dr Who Review) and then do sentiment analysis on them.\n",
        "\n",
        "I was not able to figure out how to get all ~965 reviews using R so I switched to python. I save the reviews in `DrWho_reviews.csv`."
      ],
      "metadata": {
        "id": "69u28D-5N--P"
      }
    },
    {
      "cell_type": "markdown",
      "source": [
        "## Scrape First!"
      ],
      "metadata": {
        "id": "xYazqm5iRqGL"
      }
    },
    {
      "cell_type": "code",
      "execution_count": 22,
      "metadata": {
        "id": "Aplt4DDr5HqZ"
      },
      "outputs": [],
      "source": [
        "\n",
        "#Amanda ~April 30 22:40 \n",
        "import requests\n",
        "from bs4 import BeautifulSoup\n",
        "import pandas as pd\n",
        "\n",
        "base_url = \"https://www.imdb.com/title/tt0436992/reviews/_ajax?paginationKey=\"\n",
        "initial_url = \"https://www.imdb.com/title/tt0436992/reviews\"\n",
        "ratings = []\n",
        "reviews = []\n",
        "\n",
        "def scrape_reviews(url):\n",
        "    response = requests.get(url)\n",
        "    soup = BeautifulSoup(response.text, \"html.parser\")\n",
        "    \n",
        "    for review_container in soup.find_all(\"div\", class_=\"review-container\"):\n",
        "        rating_tag = review_container.find(\"span\", class_=\"rating-other-user-rating\")\n",
        "        rating = rating_tag.find(\"span\").text if rating_tag else None\n",
        "        ratings.append(rating)\n",
        "        \n",
        "        review = review_container.find(\"div\", class_=\"text show-more__control\").text\n",
        "        reviews.append(review)\n",
        "        \n",
        "    next_pagination_key = soup.find(\"div\", class_=\"load-more-data\")[\"data-key\"] if soup.find(\"div\", class_=\"load-more-data\") else None\n",
        "    return next_pagination_key\n",
        "\n",
        "\n",
        "next_key = scrape_reviews(initial_url)\n",
        "\n",
        "\n",
        "while next_key:\n",
        "    next_url = base_url + next_key\n",
        "    next_key = scrape_reviews(next_url)\n",
        "\n",
        "\n",
        "reviews = pd.DataFrame({\"rating\": ratings, \"review\": reviews})\n",
        "reviews.to_csv(\"DrWho_reviews.csv\", index=False)\n"
      ]
    },
    {
      "cell_type": "markdown",
      "source": [],
      "metadata": {
        "id": "inBs4_u0N84k"
      }
    },
    {
      "cell_type": "code",
      "source": [
        "#!pip install transformers\n",
        "#you will need to uncomment the above to run this code block\n",
        "from transformers import pipeline, AutoTokenizer\n"
      ],
      "metadata": {
        "id": "ImX22EgW5aTj"
      },
      "execution_count": 41,
      "outputs": []
    },
    {
      "cell_type": "code",
      "source": [
        "from google.colab import files\n",
        "files.download(\"DrWho_reviews_sentiments.csv\") #in case you want to keep the reviews on your machine ... no sentiment yet though!"
      ],
      "metadata": {
        "colab": {
          "base_uri": "https://localhost:8080/",
          "height": 17
        },
        "id": "17UrmGsUB5CQ",
        "outputId": "ef7f5b41-c3f5-45f8-c782-464782ba76bf"
      },
      "execution_count": 4,
      "outputs": [
        {
          "output_type": "display_data",
          "data": {
            "text/plain": [
              "<IPython.core.display.Javascript object>"
            ],
            "application/javascript": [
              "\n",
              "    async function download(id, filename, size) {\n",
              "      if (!google.colab.kernel.accessAllowed) {\n",
              "        return;\n",
              "      }\n",
              "      const div = document.createElement('div');\n",
              "      const label = document.createElement('label');\n",
              "      label.textContent = `Downloading \"${filename}\": `;\n",
              "      div.appendChild(label);\n",
              "      const progress = document.createElement('progress');\n",
              "      progress.max = size;\n",
              "      div.appendChild(progress);\n",
              "      document.body.appendChild(div);\n",
              "\n",
              "      const buffers = [];\n",
              "      let downloaded = 0;\n",
              "\n",
              "      const channel = await google.colab.kernel.comms.open(id);\n",
              "      // Send a message to notify the kernel that we're ready.\n",
              "      channel.send({})\n",
              "\n",
              "      for await (const message of channel.messages) {\n",
              "        // Send a message to notify the kernel that we're ready.\n",
              "        channel.send({})\n",
              "        if (message.buffers) {\n",
              "          for (const buffer of message.buffers) {\n",
              "            buffers.push(buffer);\n",
              "            downloaded += buffer.byteLength;\n",
              "            progress.value = downloaded;\n",
              "          }\n",
              "        }\n",
              "      }\n",
              "      const blob = new Blob(buffers, {type: 'application/binary'});\n",
              "      const a = document.createElement('a');\n",
              "      a.href = window.URL.createObjectURL(blob);\n",
              "      a.download = filename;\n",
              "      div.appendChild(a);\n",
              "      a.click();\n",
              "      div.remove();\n",
              "    }\n",
              "  "
            ]
          },
          "metadata": {}
        },
        {
          "output_type": "display_data",
          "data": {
            "text/plain": [
              "<IPython.core.display.Javascript object>"
            ],
            "application/javascript": [
              "download(\"download_ce73b0ff-9518-439c-a38f-2e31e01d4343\", \"DrWho_reviews_sentiments.csv\", 1023677)"
            ]
          },
          "metadata": {}
        }
      ]
    },
    {
      "cell_type": "code",
      "source": [
        "review_list=reviews['review'].tolist()"
      ],
      "metadata": {
        "id": "sqRs6Z-TIt-i"
      },
      "execution_count": 24,
      "outputs": []
    },
    {
      "cell_type": "code",
      "source": [
        "reviews['review'].isna().sum()"
      ],
      "metadata": {
        "colab": {
          "base_uri": "https://localhost:8080/"
        },
        "id": "uBkcp6emJgH0",
        "outputId": "c17dba26-54e4-4cd4-a347-773ff862844f"
      },
      "execution_count": 28,
      "outputs": [
        {
          "output_type": "execute_result",
          "data": {
            "text/plain": [
              "0"
            ]
          },
          "metadata": {},
          "execution_count": 28
        }
      ]
    },
    {
      "cell_type": "markdown",
      "source": [
        "##Sentiment Analysis below!\n"
      ],
      "metadata": {
        "id": "v7k7eaO_N7mY"
      }
    },
    {
      "cell_type": "code",
      "source": [
        "# Create new columns for sentiment label and score\n",
        "reviews['sentiment_label'] = ''\n",
        "reviews['sentiment_score'] = 0.0\n",
        "\n",
        "# Process each review chunk and update the corresponding row in the reviews dataframe\n",
        "index = 0\n",
        "for review in review_list:\n",
        "    review_chunks = [review[i:i+max_length] for i in range(0, len(review), max_length)]\n",
        "    for chunk in review_chunks:\n",
        "        result = nlp(chunk)\n",
        "        label = result[0]['label']\n",
        "        score = result[0]['score']\n",
        "        reviews.at[index, 'sentiment_label'] = label\n",
        "        reviews.at[index, 'sentiment_score'] = score\n",
        "        index += 1\n",
        "\n",
        "\n",
        "\n"
      ],
      "metadata": {
        "id": "cNrJY-AnD2xm"
      },
      "execution_count": 39,
      "outputs": []
    },
    {
      "cell_type": "code",
      "source": [
        "reviews"
      ],
      "metadata": {
        "colab": {
          "base_uri": "https://localhost:8080/",
          "height": 424
        },
        "id": "Ddlr3RBGIErW",
        "outputId": "a332b7ed-89f5-4569-dd77-a741fd5957cd"
      },
      "execution_count": 40,
      "outputs": [
        {
          "output_type": "execute_result",
          "data": {
            "text/plain": [
              "     rating                                             review  \\\n",
              "0         9  Seasons 1 through 10 are brilliant overall. Se...   \n",
              "1        10  I cannot believe it's been back on our screens...   \n",
              "2         8  Doctor Who was at it's absolute peak with Chri...   \n",
              "3      None  I thought nothing could kill Dr. Who, but appa...   \n",
              "4        10  For as long as I can remember, I've heard abou...   \n",
              "...     ...                                                ...   \n",
              "2478    NaN                                                NaN   \n",
              "2479    NaN                                                NaN   \n",
              "2480    NaN                                                NaN   \n",
              "2481    NaN                                                NaN   \n",
              "2482    NaN                                                NaN   \n",
              "\n",
              "     sentiment_label  sentiment_score  \n",
              "0           NEGATIVE         0.998437  \n",
              "1           POSITIVE         0.998673  \n",
              "2           POSITIVE         0.993631  \n",
              "3           POSITIVE         0.547901  \n",
              "4           POSITIVE         0.929964  \n",
              "...              ...              ...  \n",
              "2478        POSITIVE         0.998242  \n",
              "2479        POSITIVE         0.845370  \n",
              "2480        NEGATIVE         0.954995  \n",
              "2481        POSITIVE         0.937876  \n",
              "2482        NEGATIVE         0.999427  \n",
              "\n",
              "[2483 rows x 4 columns]"
            ],
            "text/html": [
              "\n",
              "  <div id=\"df-e713a27a-7cda-4bd1-af6e-a5e7c809f335\">\n",
              "    <div class=\"colab-df-container\">\n",
              "      <div>\n",
              "<style scoped>\n",
              "    .dataframe tbody tr th:only-of-type {\n",
              "        vertical-align: middle;\n",
              "    }\n",
              "\n",
              "    .dataframe tbody tr th {\n",
              "        vertical-align: top;\n",
              "    }\n",
              "\n",
              "    .dataframe thead th {\n",
              "        text-align: right;\n",
              "    }\n",
              "</style>\n",
              "<table border=\"1\" class=\"dataframe\">\n",
              "  <thead>\n",
              "    <tr style=\"text-align: right;\">\n",
              "      <th></th>\n",
              "      <th>rating</th>\n",
              "      <th>review</th>\n",
              "      <th>sentiment_label</th>\n",
              "      <th>sentiment_score</th>\n",
              "    </tr>\n",
              "  </thead>\n",
              "  <tbody>\n",
              "    <tr>\n",
              "      <th>0</th>\n",
              "      <td>9</td>\n",
              "      <td>Seasons 1 through 10 are brilliant overall. Se...</td>\n",
              "      <td>NEGATIVE</td>\n",
              "      <td>0.998437</td>\n",
              "    </tr>\n",
              "    <tr>\n",
              "      <th>1</th>\n",
              "      <td>10</td>\n",
              "      <td>I cannot believe it's been back on our screens...</td>\n",
              "      <td>POSITIVE</td>\n",
              "      <td>0.998673</td>\n",
              "    </tr>\n",
              "    <tr>\n",
              "      <th>2</th>\n",
              "      <td>8</td>\n",
              "      <td>Doctor Who was at it's absolute peak with Chri...</td>\n",
              "      <td>POSITIVE</td>\n",
              "      <td>0.993631</td>\n",
              "    </tr>\n",
              "    <tr>\n",
              "      <th>3</th>\n",
              "      <td>None</td>\n",
              "      <td>I thought nothing could kill Dr. Who, but appa...</td>\n",
              "      <td>POSITIVE</td>\n",
              "      <td>0.547901</td>\n",
              "    </tr>\n",
              "    <tr>\n",
              "      <th>4</th>\n",
              "      <td>10</td>\n",
              "      <td>For as long as I can remember, I've heard abou...</td>\n",
              "      <td>POSITIVE</td>\n",
              "      <td>0.929964</td>\n",
              "    </tr>\n",
              "    <tr>\n",
              "      <th>...</th>\n",
              "      <td>...</td>\n",
              "      <td>...</td>\n",
              "      <td>...</td>\n",
              "      <td>...</td>\n",
              "    </tr>\n",
              "    <tr>\n",
              "      <th>2478</th>\n",
              "      <td>NaN</td>\n",
              "      <td>NaN</td>\n",
              "      <td>POSITIVE</td>\n",
              "      <td>0.998242</td>\n",
              "    </tr>\n",
              "    <tr>\n",
              "      <th>2479</th>\n",
              "      <td>NaN</td>\n",
              "      <td>NaN</td>\n",
              "      <td>POSITIVE</td>\n",
              "      <td>0.845370</td>\n",
              "    </tr>\n",
              "    <tr>\n",
              "      <th>2480</th>\n",
              "      <td>NaN</td>\n",
              "      <td>NaN</td>\n",
              "      <td>NEGATIVE</td>\n",
              "      <td>0.954995</td>\n",
              "    </tr>\n",
              "    <tr>\n",
              "      <th>2481</th>\n",
              "      <td>NaN</td>\n",
              "      <td>NaN</td>\n",
              "      <td>POSITIVE</td>\n",
              "      <td>0.937876</td>\n",
              "    </tr>\n",
              "    <tr>\n",
              "      <th>2482</th>\n",
              "      <td>NaN</td>\n",
              "      <td>NaN</td>\n",
              "      <td>NEGATIVE</td>\n",
              "      <td>0.999427</td>\n",
              "    </tr>\n",
              "  </tbody>\n",
              "</table>\n",
              "<p>2483 rows × 4 columns</p>\n",
              "</div>\n",
              "      <button class=\"colab-df-convert\" onclick=\"convertToInteractive('df-e713a27a-7cda-4bd1-af6e-a5e7c809f335')\"\n",
              "              title=\"Convert this dataframe to an interactive table.\"\n",
              "              style=\"display:none;\">\n",
              "        \n",
              "  <svg xmlns=\"http://www.w3.org/2000/svg\" height=\"24px\"viewBox=\"0 0 24 24\"\n",
              "       width=\"24px\">\n",
              "    <path d=\"M0 0h24v24H0V0z\" fill=\"none\"/>\n",
              "    <path d=\"M18.56 5.44l.94 2.06.94-2.06 2.06-.94-2.06-.94-.94-2.06-.94 2.06-2.06.94zm-11 1L8.5 8.5l.94-2.06 2.06-.94-2.06-.94L8.5 2.5l-.94 2.06-2.06.94zm10 10l.94 2.06.94-2.06 2.06-.94-2.06-.94-.94-2.06-.94 2.06-2.06.94z\"/><path d=\"M17.41 7.96l-1.37-1.37c-.4-.4-.92-.59-1.43-.59-.52 0-1.04.2-1.43.59L10.3 9.45l-7.72 7.72c-.78.78-.78 2.05 0 2.83L4 21.41c.39.39.9.59 1.41.59.51 0 1.02-.2 1.41-.59l7.78-7.78 2.81-2.81c.8-.78.8-2.07 0-2.86zM5.41 20L4 18.59l7.72-7.72 1.47 1.35L5.41 20z\"/>\n",
              "  </svg>\n",
              "      </button>\n",
              "      \n",
              "  <style>\n",
              "    .colab-df-container {\n",
              "      display:flex;\n",
              "      flex-wrap:wrap;\n",
              "      gap: 12px;\n",
              "    }\n",
              "\n",
              "    .colab-df-convert {\n",
              "      background-color: #E8F0FE;\n",
              "      border: none;\n",
              "      border-radius: 50%;\n",
              "      cursor: pointer;\n",
              "      display: none;\n",
              "      fill: #1967D2;\n",
              "      height: 32px;\n",
              "      padding: 0 0 0 0;\n",
              "      width: 32px;\n",
              "    }\n",
              "\n",
              "    .colab-df-convert:hover {\n",
              "      background-color: #E2EBFA;\n",
              "      box-shadow: 0px 1px 2px rgba(60, 64, 67, 0.3), 0px 1px 3px 1px rgba(60, 64, 67, 0.15);\n",
              "      fill: #174EA6;\n",
              "    }\n",
              "\n",
              "    [theme=dark] .colab-df-convert {\n",
              "      background-color: #3B4455;\n",
              "      fill: #D2E3FC;\n",
              "    }\n",
              "\n",
              "    [theme=dark] .colab-df-convert:hover {\n",
              "      background-color: #434B5C;\n",
              "      box-shadow: 0px 1px 3px 1px rgba(0, 0, 0, 0.15);\n",
              "      filter: drop-shadow(0px 1px 2px rgba(0, 0, 0, 0.3));\n",
              "      fill: #FFFFFF;\n",
              "    }\n",
              "  </style>\n",
              "\n",
              "      <script>\n",
              "        const buttonEl =\n",
              "          document.querySelector('#df-e713a27a-7cda-4bd1-af6e-a5e7c809f335 button.colab-df-convert');\n",
              "        buttonEl.style.display =\n",
              "          google.colab.kernel.accessAllowed ? 'block' : 'none';\n",
              "\n",
              "        async function convertToInteractive(key) {\n",
              "          const element = document.querySelector('#df-e713a27a-7cda-4bd1-af6e-a5e7c809f335');\n",
              "          const dataTable =\n",
              "            await google.colab.kernel.invokeFunction('convertToInteractive',\n",
              "                                                     [key], {});\n",
              "          if (!dataTable) return;\n",
              "\n",
              "          const docLinkHtml = 'Like what you see? Visit the ' +\n",
              "            '<a target=\"_blank\" href=https://colab.research.google.com/notebooks/data_table.ipynb>data table notebook</a>'\n",
              "            + ' to learn more about interactive tables.';\n",
              "          element.innerHTML = '';\n",
              "          dataTable['output_type'] = 'display_data';\n",
              "          await google.colab.output.renderOutput(dataTable, element);\n",
              "          const docLink = document.createElement('div');\n",
              "          docLink.innerHTML = docLinkHtml;\n",
              "          element.appendChild(docLink);\n",
              "        }\n",
              "      </script>\n",
              "    </div>\n",
              "  </div>\n",
              "  "
            ]
          },
          "metadata": {},
          "execution_count": 40
        }
      ]
    },
    {
      "cell_type": "code",
      "source": [
        "\n",
        "reviews.to_csv(\"DrWho_reviews_sentiments_now.csv\", index=False)\n",
        "files.download(\"DrWho_reviews_sentiments_now.csv\")"
      ],
      "metadata": {
        "colab": {
          "base_uri": "https://localhost:8080/",
          "height": 17
        },
        "id": "LqQ-mN6uSJV5",
        "outputId": "94a99f29-48b8-45cc-ee15-4bb29b57fedb"
      },
      "execution_count": 42,
      "outputs": [
        {
          "output_type": "display_data",
          "data": {
            "text/plain": [
              "<IPython.core.display.Javascript object>"
            ],
            "application/javascript": [
              "\n",
              "    async function download(id, filename, size) {\n",
              "      if (!google.colab.kernel.accessAllowed) {\n",
              "        return;\n",
              "      }\n",
              "      const div = document.createElement('div');\n",
              "      const label = document.createElement('label');\n",
              "      label.textContent = `Downloading \"${filename}\": `;\n",
              "      div.appendChild(label);\n",
              "      const progress = document.createElement('progress');\n",
              "      progress.max = size;\n",
              "      div.appendChild(progress);\n",
              "      document.body.appendChild(div);\n",
              "\n",
              "      const buffers = [];\n",
              "      let downloaded = 0;\n",
              "\n",
              "      const channel = await google.colab.kernel.comms.open(id);\n",
              "      // Send a message to notify the kernel that we're ready.\n",
              "      channel.send({})\n",
              "\n",
              "      for await (const message of channel.messages) {\n",
              "        // Send a message to notify the kernel that we're ready.\n",
              "        channel.send({})\n",
              "        if (message.buffers) {\n",
              "          for (const buffer of message.buffers) {\n",
              "            buffers.push(buffer);\n",
              "            downloaded += buffer.byteLength;\n",
              "            progress.value = downloaded;\n",
              "          }\n",
              "        }\n",
              "      }\n",
              "      const blob = new Blob(buffers, {type: 'application/binary'});\n",
              "      const a = document.createElement('a');\n",
              "      a.href = window.URL.createObjectURL(blob);\n",
              "      a.download = filename;\n",
              "      div.appendChild(a);\n",
              "      a.click();\n",
              "      div.remove();\n",
              "    }\n",
              "  "
            ]
          },
          "metadata": {}
        },
        {
          "output_type": "display_data",
          "data": {
            "text/plain": [
              "<IPython.core.display.Javascript object>"
            ],
            "application/javascript": [
              "download(\"download_7cce13fd-8d9a-4e18-a256-784177321946\", \"DrWho_reviews_sentiments_now.csv\", 1087330)"
            ]
          },
          "metadata": {}
        }
      ]
    }
  ]
}